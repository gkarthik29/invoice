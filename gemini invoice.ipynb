{
  "cells": [
    {
      "cell_type": "markdown",
      "metadata": {
        "id": "view-in-github",
        "colab_type": "text"
      },
      "source": [
        "<a href=\"https://colab.research.google.com/github/gkarthik29/invoice/blob/main/gemini%20invoice.ipynb\" target=\"_parent\"><img src=\"https://colab.research.google.com/assets/colab-badge.svg\" alt=\"Open In Colab\"/></a>"
      ]
    },
    {
      "cell_type": "code",
      "source": [
        "!pip install -q -U google-generativeai"
      ],
      "metadata": {
        "id": "EY9fRJiBXdir"
      },
      "execution_count": null,
      "outputs": []
    },
    {
      "cell_type": "code",
      "source": [
        "import google.generativeai as genai"
      ],
      "metadata": {
        "id": "joPhIy4AXs0-"
      },
      "execution_count": null,
      "outputs": []
    },
    {
      "cell_type": "code",
      "source": [
        "#api key\n",
        "from google.colab import userdata\n",
        "genai.configure(\n",
        "    api_key=userdata.get('GAPI_KEY')\n",
        ")"
      ],
      "metadata": {
        "id": "iaVAyNIMX4h7"
      },
      "execution_count": null,
      "outputs": []
    },
    {
      "cell_type": "code",
      "source": [
        "#see models in key\n",
        "for i in genai.list_models():\n",
        "  if 'generateContent' in i.supported_generation_methods:\n",
        "    print(i.name)"
      ],
      "metadata": {
        "collapsed": true,
        "colab": {
          "base_uri": "https://localhost:8080/",
          "height": 416
        },
        "id": "80y0Of4zYrLy",
        "outputId": "66306dcb-b9d3-4caa-fce3-2e08c9f7296c"
      },
      "execution_count": null,
      "outputs": [
        {
          "output_type": "stream",
          "name": "stdout",
          "text": [
            "models/gemini-1.0-pro-latest\n",
            "models/gemini-1.0-pro\n",
            "models/gemini-pro\n",
            "models/gemini-1.0-pro-001\n",
            "models/gemini-1.0-pro-vision-latest\n",
            "models/gemini-pro-vision\n",
            "models/gemini-1.5-pro-latest\n",
            "models/gemini-1.5-pro-001\n",
            "models/gemini-1.5-pro-002\n",
            "models/gemini-1.5-pro\n",
            "models/gemini-1.5-pro-exp-0801\n",
            "models/gemini-1.5-pro-exp-0827\n",
            "models/gemini-1.5-flash-latest\n",
            "models/gemini-1.5-flash-001\n",
            "models/gemini-1.5-flash-001-tuning\n",
            "models/gemini-1.5-flash\n",
            "models/gemini-1.5-flash-exp-0827\n",
            "models/gemini-1.5-flash-002\n",
            "models/gemini-1.5-flash-8b\n",
            "models/gemini-1.5-flash-8b-001\n",
            "models/gemini-1.5-flash-8b-latest\n",
            "models/gemini-1.5-flash-8b-exp-0827\n",
            "models/gemini-1.5-flash-8b-exp-0924\n"
          ]
        }
      ]
    },
    {
      "cell_type": "code",
      "source": [
        "#model config to make model to be specific\n",
        "MODEL_CONFIG = {\n",
        "    'temperature': 0.1,\n",
        "    #'candidate_count': 1,\n",
        "    'top_k': 40,\n",
        "    'top_p': 0.9,\n",
        "    'max_output_tokens':4096,\n",
        "    }\n",
        "\n",
        "#default safety settings by google\n",
        "safety_settings = [\n",
        "    {\n",
        "        \"category\": \"harm_category_sexually_explicit\",\n",
        "        \"threshold\": \"BLOCK_MEDIUM_AND_ABOVE\"\n",
        "    },\n",
        "    {\n",
        "        \"category\": \"harm_category_sexually_explicit\",\n",
        "        \"threshold\": \"BLOCK_MEDIUM_AND_ABOVE\"\n",
        "    },\n",
        "    {\n",
        "        \"category\": \"harm_category_sexually_explicit\",\n",
        "        \"threshold\": \"BLOCK_MEDIUM_AND_ABOVE\"\n",
        "    },\n",
        "    {\n",
        "        \"category\": \"harm_category_dangerous_content\",\n",
        "        \"threshold\": \"BLOCK_MEDIUM_AND_ABOVE\"\n",
        "    }\n",
        "]\n"
      ],
      "metadata": {
        "id": "cA9LUqWMZtyI"
      },
      "execution_count": null,
      "outputs": []
    },
    {
      "cell_type": "code",
      "source": [
        "#what type of model required for our usecase\n",
        "#for our usecase we need vision model because we need to scan a document and retrieve info from that document"
      ],
      "metadata": {
        "id": "J0ZBCI58cOIa"
      },
      "execution_count": null,
      "outputs": []
    },
    {
      "cell_type": "code",
      "source": [
        "model = genai.GenerativeModel(model_name=\"gemini-1.5-pro-exp-0801\",\n",
        "                              generation_config = MODEL_CONFIG,\n",
        "                              safety_settings = safety_settings)"
      ],
      "metadata": {
        "id": "7GjtGWBPdD5V"
      },
      "execution_count": null,
      "outputs": []
    },
    {
      "cell_type": "code",
      "source": [
        "#this code is to get pictures and convert store them as byte format\n",
        "from pathlib import Path\n",
        "\n",
        "def image_format(image_path):\n",
        "  img = Path(image_path)\n",
        "\n",
        "  if not img.exists():\n",
        "    raise FileNotFoundError(f\"File {img} does not exist\")\n",
        "\n",
        "  image_parts = [\n",
        "      {\n",
        "          \"mime_type\":\"image/png\",  \"data\" :img.read_bytes()\n",
        "      }\n",
        "  ]\n",
        "  return image_parts"
      ],
      "metadata": {
        "id": "DhdR4FixdyLd"
      },
      "execution_count": null,
      "outputs": []
    },
    {
      "cell_type": "markdown",
      "source": [
        "MODEL OUTPUT"
      ],
      "metadata": {
        "id": "BXSc3Pkbi4ku"
      }
    },
    {
      "cell_type": "code",
      "source": [
        "def gemini_output(image_path , system_prompt , user_prompt):\n",
        "  image_parts = image_format(image_path)\n",
        "  input_prompt = [system_prompt, user_prompt,image_parts[0]]\n",
        "  response = model.generate_content(input_prompt)\n",
        "  return response.text"
      ],
      "metadata": {
        "id": "DH821Kjci6qD"
      },
      "execution_count": null,
      "outputs": []
    },
    {
      "cell_type": "code",
      "source": [
        "system_prompt = \"\"\"\n",
        "               You are a specialist in comprehending receipts.\n",
        "               Input images in the form of receipts will be provided to you,\n",
        "               and your task is to respond to questions based on the content of the input image.\n",
        "               explain it in a neater way.\n",
        "               \"\"\"\n",
        "image_path = \"/content/WhatsApp Image 2024-10-19 at 18.54.05_aa292974.jpg\"\n",
        "user_prompt = \"give info in key value pairs in dictionary\"\n",
        "gemini_output(image_path,system_prompt,user_prompt)"
      ],
      "metadata": {
        "collapsed": true,
        "colab": {
          "base_uri": "https://localhost:8080/",
          "height": 140
        },
        "id": "5ln4N2Ujj2DD",
        "outputId": "c1aac65b-65b6-4628-a963-49ea12ca06f4"
      },
      "execution_count": null,
      "outputs": [
        {
          "output_type": "execute_result",
          "data": {
            "text/plain": [
              "'Okay, here\\'s a neater explanation of the receipt\\'s content in key-value pairs within a dictionary:\\n\\n```python\\nreceipt_data = {\\n    \"Government\": \"Government of Tamil Nadu\",\\n    \"Payslip Month\": \"September 2024\",\\n    \"Employee Name\": \"Ganesan A\",\\n    \"Employee Number\": \"22030315864\",\\n    \"Post\": \"Grade I Police Constable\",\\n    \"Office Name\": \"ADDITIONAL COMMISSIONER OF POLICE, TRAFFIC, CHENNAI\",\\n    \"GPF Number / CPS Number\": \"179542/POL\",\\n    \"Duty Pay\": 54100,\\n    \"Dearness Allowance\": 27050,\\n    \"Medical Allowance\": 400,\\n    \"City Compensatory Allowance\": 1200,\\n    \"Special Allowance\": 150,\\n    \"Fuel Allowance\": 515,\\n    \"Medical Duty Allowance\": 300,\\n    \"Night Duty Allowance\": 300,\\n    \"Risk Allowance\": 1000,\\n    \"Washing Allowance\": 500,\\n    \"Gross\": 85515,\\n    \"General Provident Fund\": 9800,\\n    \"NHIS Corpus Fund\": 5,\\n    \"New Health Insurance Scheme\": 295,\\n    \"Family Benefit Fund\": 110,\\n    \"Special Provident Fund 2000 (9/10)\": 50,\\n    \"Festival Advance Recovery\": 1000,\\n    \"PP Advance Recovery (7/36)\": 10900,\\n    \"PLI CGST\": 3,\\n    \"PLI SGST\": 3,\\n    \"Postal Life Insurance\": 275,\\n    \"Total SD\": 22441,\\n    \"Benevolent Fund\": 260,\\n    \"LIC\": 365,\\n    \"Society Deduction\": 50,\\n    \"Total NSD\": 675,\\n    \"Net Pay Credited\": 62399,\\n    \"PAN Number\": \"AYJPG0995P\",\\n    \"Bank Name\": \"STATE BANK OF INDIA\",\\n    \"Token Number / Token Date\": \"410103832240930208/ 22-09-24\",\\n    \"IFSC\": \"SBIN00001516\",\\n    \"Settlement Date\": \"30-09-24\",\\n    \"Account Number\": \"37971696327\"\\n}\\n```\\n\\n**Explanation:**\\n\\nI\\'ve extracted the key information from the payslip and organized it into a dictionary. Each key represents a specific data point (e.g., \"Employee Name\", \"Gross\", \"Deductions\"), and the corresponding value holds the actual data from the receipt. This makes it easier to access and understand the information contained in the payslip. \\n'"
            ],
            "application/vnd.google.colaboratory.intrinsic+json": {
              "type": "string"
            }
          },
          "metadata": {},
          "execution_count": 51
        }
      ]
    },
    {
      "cell_type": "code",
      "source": [
        "system_prompt = \"\"\"\n",
        "               You are a specialist in comprehending receipts.\n",
        "               Input images in the form of receipts will be provided to you,\n",
        "               and your task is to respond to questions based on the content of the input image.\n",
        "               \"\"\"\n",
        "#system_prompt = \"Convert Invoice data into json format with appropriate json tags as required for the data in image \"\n",
        "image_path = \"/content/WhatsApp Image 2024-10-19 at 18.54.05_aa292974.jpg\"\n",
        "user_prompt = \"Convert Invoice data into json format with appropriate json tags as required for the data in image \""
      ],
      "metadata": {
        "id": "SjhRWjDa-vSm"
      },
      "execution_count": null,
      "outputs": []
    },
    {
      "cell_type": "code",
      "source": [
        "gemini_output(image_path,system_prompt,user_prompt)"
      ],
      "metadata": {
        "collapsed": true,
        "colab": {
          "base_uri": "https://localhost:8080/",
          "height": 157
        },
        "id": "IC6mWqDY-0WJ",
        "outputId": "be9a8c4f-5530-424a-ca2f-00cb3f03ce41"
      },
      "execution_count": null,
      "outputs": [
        {
          "output_type": "execute_result",
          "data": {
            "text/plain": [
              "'```json\\n{\\n  \"Employee Name\": \"Ganesan A\",\\n  \"Employee Number\": \"22030315864\",\\n  \"Post\": \"Grade I Police Constable\",\\n  \"Office Name\": \"ADDITIONAL COMMISSIONER OF POLICE, TRAFFIC, CHENNAI\",\\n  \"GPF Number / CPS Number\": \"179542/POL\",\\n  \"Pay Details\": [\\n    {\\n      \"Duty Pay\": 54100\\n    },\\n    {\\n      \"Dearness Allowance\": 27050\\n    },\\n    {\\n      \"Medical Allowance\": 400\\n    },\\n    {\\n      \"City Compensatory Allowance\": 1200\\n    },\\n    {\\n      \"Special Allowance\": 150\\n    },\\n    {\\n      \"Fuel Allowance\": 515\\n    },\\n    {\\n      \"Medical Allowance\": 300\\n    },\\n    {\\n      \"Night Duty Allowance\": 300\\n    },\\n    {\\n      \"Risk Allowance\": 1000\\n    },\\n    {\\n      \"Washing Allowance\": 500\\n    }\\n  ],\\n  \"Statutory Deductions\": [\\n    {\\n      \"General Provident Fund\": 9800\\n    },\\n    {\\n      \"NHIS Corpus Fund\": 5\\n    },\\n    {\\n      \"New Health Insurance Scheme\": 295\\n    },\\n    {\\n      \"Family Benefit Fund\": 110\\n    },\\n    {\\n      \"Special Provident Fund 2000 (9/10)\": 50\\n    },\\n    {\\n      \"Festival Advance Recovery\": 1000\\n    },\\n    {\\n      \"PP Advance Recovery (7/36)\": 10900\\n    },\\n    {\\n      \"PLI CGST\": 3\\n    },\\n    {\\n      \"PLI SGST\": 3\\n    },\\n    {\\n      \"Postal Life Insurance\": 275\\n    }\\n  ],\\n  \"Non-Statutory Deductions\": [\\n    {\\n      \"Benevolent Fund\": 260\\n    },\\n    {\\n      \"LIC\": 365\\n    },\\n    {\\n      \"Society Deduction\": 50\\n    }\\n  ],\\n  \"Gross\": 85515,\\n  \"Total SD\": 22441,\\n  \"Total NSD\": 675,\\n  \"Net-Pay Credited\": 62399,\\n  \"PAN Number\": \"AYJPG0995P\",\\n  \"Bank Name\": \"STATE BANK OF INDIA\",\\n  \"Token Number / Token Date\": \"41010383224090208/22-09-24\",\\n  \"IFSC\": \"SBIN00001516\",\\n  \"Settlement Date\": \"30-09-24\",\\n  \"Account Number\": \"37971696327\"\\n}\\n```'"
            ],
            "application/vnd.google.colaboratory.intrinsic+json": {
              "type": "string"
            }
          },
          "metadata": {},
          "execution_count": 55
        }
      ]
    },
    {
      "cell_type": "code",
      "source": [
        "from IPython.display import Markdown\n",
        "Markdown(gemini_output(image_path,system_prompt,user_prompt))\n"
      ],
      "metadata": {
        "collapsed": true,
        "colab": {
          "base_uri": "https://localhost:8080/",
          "height": 1000
        },
        "id": "oY5W5QTd_FZp",
        "outputId": "a49828ec-e531-49f8-b622-ea47e4d8894f"
      },
      "execution_count": null,
      "outputs": [
        {
          "output_type": "execute_result",
          "data": {
            "text/plain": [
              "<IPython.core.display.Markdown object>"
            ],
            "text/markdown": "```json\n{\n  \"Employee Name\": \"Ganesan A\",\n  \"Employee Number\": \"22030315864\",\n  \"Post\": \"Grade I Police Constable\",\n  \"Office Name\": \"ADDITIONAL COMMISSIONER OF POLICE, TRAFFIC, CHENNAI\",\n  \"GPF Number / CPS Number\": \"179542/POL\",\n  \"Month\": \"September 2024\",\n  \"Pay Details\": [\n    {\n      \"Description\": \"Duty Pay\",\n      \"Amount\": 54100\n    },\n    {\n      \"Description\": \"Dearness Allowance\",\n      \"Amount\": 27050\n    },\n    {\n      \"Description\": \"Medical Allowance\",\n      \"Amount\": 400\n    },\n    {\n      \"Description\": \"City Compensatory Allowance\",\n      \"Amount\": 1200\n    },\n    {\n      \"Description\": \"Special Allowance\",\n      \"Amount\": 150\n    },\n    {\n      \"Description\": \"Fuel Allowance\",\n      \"Amount\": 515\n    },\n    {\n      \"Description\": \"Medical Allowance\",\n      \"Amount\": 300\n    },\n    {\n      \"Description\": \"Night Duty Allowance\",\n      \"Amount\": 300\n    },\n    {\n      \"Description\": \"Risk Allowance\",\n      \"Amount\": 1000\n    },\n    {\n      \"Description\": \"Washing Allowance\",\n      \"Amount\": 500\n    }\n  ],\n  \"Deductions\": [\n    {\n      \"Description\": \"General Provident Fund\",\n      \"Amount\": 9800\n    },\n    {\n      \"Description\": \"NHIS Corpus Fund\",\n      \"Amount\": 5\n    },\n    {\n      \"Description\": \"New Health Insurance Scheme\",\n      \"Amount\": 295\n    },\n    {\n      \"Description\": \"Family Benefit Fund\",\n      \"Amount\": 110\n    },\n    {\n      \"Description\": \"Special Provident Fund 2000 (9/10)\",\n      \"Amount\": 50\n    },\n    {\n      \"Description\": \"Festival Advance Recovery\",\n      \"Amount\": 1000\n    },\n    {\n      \"Description\": \"PP Advance Recovery (7/36)\",\n      \"Amount\": 10900\n    },\n    {\n      \"Description\": \"PLI CGST\",\n      \"Amount\": 3\n    },\n    {\n      \"Description\": \"PLI SGST\",\n      \"Amount\": 3\n    },\n    {\n      \"Description\": \"Postal Life Insurance\",\n      \"Amount\": 275\n    }\n  ],\n  \"Benevolent Fund\": 260,\n  \"LIC\": 365,\n  \"Society Deduction\": 50,\n  \"Gross\": 85515,\n  \"Total SD\": 22441,\n  \"Total NSD\": 675,\n  \"Net-Pay Credited\": 62399,\n  \"PAN Number\": \"AYJPG0995P\",\n  \"Token Number / Token Date\": \"41010383224090208/\\n22-09-24\",\n  \"Settlement Date\": \"30-09-24\",\n  \"Bank Name\": \"STATE BANK OF INDIA\",\n  \"IFSC\": \"SBIN00001516\",\n  \"Account Number\": \"37971696327\"\n}\n```"
          },
          "metadata": {},
          "execution_count": 56
        }
      ]
    }
  ],
  "metadata": {
    "colab": {
      "name": "Welcome to Colaboratory",
      "provenance": [],
      "include_colab_link": true
    },
    "kernelspec": {
      "display_name": "Python 3",
      "name": "python3"
    }
  },
  "nbformat": 4,
  "nbformat_minor": 0
}