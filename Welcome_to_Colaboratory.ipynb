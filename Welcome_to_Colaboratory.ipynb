{
  "cells": [
    {
      "cell_type": "markdown",
      "metadata": {
        "id": "view-in-github",
        "colab_type": "text"
      },
      "source": [
        "<a href=\"https://colab.research.google.com/github/gkarthik29/invoice/blob/main/Welcome_to_Colaboratory.ipynb\" target=\"_parent\"><img src=\"https://colab.research.google.com/assets/colab-badge.svg\" alt=\"Open In Colab\"/></a>"
      ]
    },
    {
      "cell_type": "code",
      "source": [
        "!pip install -q -U google-generativeai"
      ],
      "metadata": {
        "id": "EY9fRJiBXdir",
        "outputId": "0ee46432-7e1d-4edc-af60-fdf53b048f69",
        "colab": {
          "base_uri": "https://localhost:8080/"
        }
      },
      "execution_count": 3,
      "outputs": [
        {
          "output_type": "stream",
          "name": "stdout",
          "text": [
            "\u001b[?25l   \u001b[90m━━━━━━━━━━━━━━━━━━━━━━━━━━━━━━━━━━━━━━━━\u001b[0m \u001b[32m0.0/160.8 kB\u001b[0m \u001b[31m?\u001b[0m eta \u001b[36m-:--:--\u001b[0m\r\u001b[2K   \u001b[90m━━━━━━━━━━━━━━━━━━━━━━━━━━━━━━━━━━━━━━━━\u001b[0m \u001b[32m160.8/160.8 kB\u001b[0m \u001b[31m4.6 MB/s\u001b[0m eta \u001b[36m0:00:00\u001b[0m\n",
            "\u001b[?25h\u001b[?25l   \u001b[90m━━━━━━━━━━━━━━━━━━━━━━━━━━━━━━━━━━━━━━━━\u001b[0m \u001b[32m0.0/760.0 kB\u001b[0m \u001b[31m?\u001b[0m eta \u001b[36m-:--:--\u001b[0m\r\u001b[2K   \u001b[90m━━━━━━━━━━━━━━━━━━━━━━━━━━━━━━━━━━━━━━━━\u001b[0m \u001b[32m760.0/760.0 kB\u001b[0m \u001b[31m24.1 MB/s\u001b[0m eta \u001b[36m0:00:00\u001b[0m\n",
            "\u001b[?25h"
          ]
        }
      ]
    },
    {
      "cell_type": "code",
      "source": [
        "import google.generativeai as genai"
      ],
      "metadata": {
        "id": "joPhIy4AXs0-"
      },
      "execution_count": 4,
      "outputs": []
    },
    {
      "cell_type": "code",
      "source": [
        "#api key\n",
        "from google.colab import userdata\n",
        "genai.configure(\n",
        "    api_key=userdata.get('GAPI_KEY')\n",
        ")"
      ],
      "metadata": {
        "id": "iaVAyNIMX4h7"
      },
      "execution_count": 5,
      "outputs": []
    },
    {
      "cell_type": "code",
      "source": [
        "#see models in key\n",
        "for i in genai.list_models():\n",
        "  if 'generateContent' in i.supported_generation_methods:\n",
        "    print(i.name)"
      ],
      "metadata": {
        "collapsed": true,
        "colab": {
          "base_uri": "https://localhost:8080/",
          "height": 416
        },
        "id": "80y0Of4zYrLy",
        "outputId": "a71bca34-753e-475d-8a60-d51b35dbc26f"
      },
      "execution_count": 6,
      "outputs": [
        {
          "output_type": "stream",
          "name": "stdout",
          "text": [
            "models/gemini-1.0-pro-latest\n",
            "models/gemini-1.0-pro\n",
            "models/gemini-pro\n",
            "models/gemini-1.0-pro-001\n",
            "models/gemini-1.0-pro-vision-latest\n",
            "models/gemini-pro-vision\n",
            "models/gemini-1.5-pro-latest\n",
            "models/gemini-1.5-pro-001\n",
            "models/gemini-1.5-pro-002\n",
            "models/gemini-1.5-pro\n",
            "models/gemini-1.5-pro-exp-0801\n",
            "models/gemini-1.5-pro-exp-0827\n",
            "models/gemini-1.5-flash-latest\n",
            "models/gemini-1.5-flash-001\n",
            "models/gemini-1.5-flash-001-tuning\n",
            "models/gemini-1.5-flash\n",
            "models/gemini-1.5-flash-exp-0827\n",
            "models/gemini-1.5-flash-002\n",
            "models/gemini-1.5-flash-8b\n",
            "models/gemini-1.5-flash-8b-001\n",
            "models/gemini-1.5-flash-8b-latest\n",
            "models/gemini-1.5-flash-8b-exp-0827\n",
            "models/gemini-1.5-flash-8b-exp-0924\n"
          ]
        }
      ]
    },
    {
      "cell_type": "code",
      "source": [
        "#model config to make model to be specific\n",
        "MODEL_CONFIG = {\n",
        "    'temperature': 0.1,\n",
        "    #'candidate_count': 1,\n",
        "    'top_k': 40,\n",
        "    'top_p': 0.9,\n",
        "    'max_output_tokens':4096,\n",
        "    }\n",
        "\n",
        "#default safety settings by google\n",
        "safety_settings = [\n",
        "    {\n",
        "        \"category\": \"harm_category_sexually_explicit\",\n",
        "        \"threshold\": \"BLOCK_MEDIUM_AND_ABOVE\"\n",
        "    },\n",
        "    {\n",
        "        \"category\": \"harm_category_sexually_explicit\",\n",
        "        \"threshold\": \"BLOCK_MEDIUM_AND_ABOVE\"\n",
        "    },\n",
        "    {\n",
        "        \"category\": \"harm_category_sexually_explicit\",\n",
        "        \"threshold\": \"BLOCK_MEDIUM_AND_ABOVE\"\n",
        "    },\n",
        "    {\n",
        "        \"category\": \"harm_category_dangerous_content\",\n",
        "        \"threshold\": \"BLOCK_MEDIUM_AND_ABOVE\"\n",
        "    }\n",
        "]\n"
      ],
      "metadata": {
        "id": "cA9LUqWMZtyI"
      },
      "execution_count": 7,
      "outputs": []
    },
    {
      "cell_type": "code",
      "source": [
        "#what type of model required for our usecase\n",
        "#for our usecase we need vision model because we need to scan a document and retrieve info from that document"
      ],
      "metadata": {
        "id": "J0ZBCI58cOIa"
      },
      "execution_count": null,
      "outputs": []
    },
    {
      "cell_type": "code",
      "source": [
        "model = genai.GenerativeModel(model_name=\"gemini-1.5-pro-exp-0801\",\n",
        "                              generation_config = MODEL_CONFIG,\n",
        "                              safety_settings = safety_settings)"
      ],
      "metadata": {
        "id": "7GjtGWBPdD5V"
      },
      "execution_count": 8,
      "outputs": []
    },
    {
      "cell_type": "code",
      "source": [
        "#this code is to get pictures and convert store them as byte format\n",
        "from pathlib import Path\n",
        "\n",
        "def image_format(image_path):\n",
        "  img = Path(image_path)\n",
        "\n",
        "  if not img.exists():\n",
        "    raise FileNotFoundError(f\"File {img} does not exist\")\n",
        "\n",
        "  image_parts = [\n",
        "      {\n",
        "          \"mime_type\":\"image/png\",  \"data\" :img.read_bytes()\n",
        "      }\n",
        "  ]\n",
        "  return image_parts"
      ],
      "metadata": {
        "id": "DhdR4FixdyLd"
      },
      "execution_count": 9,
      "outputs": []
    },
    {
      "cell_type": "markdown",
      "source": [
        "MODEL OUTPUT"
      ],
      "metadata": {
        "id": "BXSc3Pkbi4ku"
      }
    },
    {
      "cell_type": "code",
      "source": [
        "def gemini_output(image_path , system_prompt , user_prompt):\n",
        "  image_parts = image_format(image_path)\n",
        "  input_prompt = [system_prompt, user_prompt,image_parts[0]]\n",
        "  response = model.generate_content(input_prompt)\n",
        "  return response.text"
      ],
      "metadata": {
        "id": "DH821Kjci6qD"
      },
      "execution_count": 10,
      "outputs": []
    },
    {
      "cell_type": "code",
      "source": [
        "system_prompt = \"\"\"\n",
        "               You are a specialist in comprehending receipts.\n",
        "               Input images in the form of receipts will be provided to you,\n",
        "               and your task is to respond to questions based on the content of the input image.\n",
        "               explain it in a neater way.\n",
        "               \"\"\"\n",
        "image_path = \"/content/WhatsApp Image 2024-10-19 at 18.54.05_aa292974.jpg\"\n",
        "user_prompt = \"give info in key value pairs in dictionary\"\n",
        "gemini_output(image_path,system_prompt,user_prompt)"
      ],
      "metadata": {
        "collapsed": true,
        "colab": {
          "base_uri": "https://localhost:8080/",
          "height": 140
        },
        "id": "5ln4N2Ujj2DD",
        "outputId": "c1aac65b-65b6-4628-a963-49ea12ca06f4"
      },
      "execution_count": null,
      "outputs": [
        {
          "output_type": "execute_result",
          "data": {
            "text/plain": [
              "'Okay, here\\'s a neater explanation of the receipt\\'s content in key-value pairs within a dictionary:\\n\\n```python\\nreceipt_data = {\\n    \"Government\": \"Government of Tamil Nadu\",\\n    \"Payslip Month\": \"September 2024\",\\n    \"Employee Name\": \"Ganesan A\",\\n    \"Employee Number\": \"22030315864\",\\n    \"Post\": \"Grade I Police Constable\",\\n    \"Office Name\": \"ADDITIONAL COMMISSIONER OF POLICE, TRAFFIC, CHENNAI\",\\n    \"GPF Number / CPS Number\": \"179542/POL\",\\n    \"Duty Pay\": 54100,\\n    \"Dearness Allowance\": 27050,\\n    \"Medical Allowance\": 400,\\n    \"City Compensatory Allowance\": 1200,\\n    \"Special Allowance\": 150,\\n    \"Fuel Allowance\": 515,\\n    \"Medical Duty Allowance\": 300,\\n    \"Night Duty Allowance\": 300,\\n    \"Risk Allowance\": 1000,\\n    \"Washing Allowance\": 500,\\n    \"Gross\": 85515,\\n    \"General Provident Fund\": 9800,\\n    \"NHIS Corpus Fund\": 5,\\n    \"New Health Insurance Scheme\": 295,\\n    \"Family Benefit Fund\": 110,\\n    \"Special Provident Fund 2000 (9/10)\": 50,\\n    \"Festival Advance Recovery\": 1000,\\n    \"PP Advance Recovery (7/36)\": 10900,\\n    \"PLI CGST\": 3,\\n    \"PLI SGST\": 3,\\n    \"Postal Life Insurance\": 275,\\n    \"Total SD\": 22441,\\n    \"Benevolent Fund\": 260,\\n    \"LIC\": 365,\\n    \"Society Deduction\": 50,\\n    \"Total NSD\": 675,\\n    \"Net Pay Credited\": 62399,\\n    \"PAN Number\": \"AYJPG0995P\",\\n    \"Bank Name\": \"STATE BANK OF INDIA\",\\n    \"Token Number / Token Date\": \"410103832240930208/ 22-09-24\",\\n    \"IFSC\": \"SBIN00001516\",\\n    \"Settlement Date\": \"30-09-24\",\\n    \"Account Number\": \"37971696327\"\\n}\\n```\\n\\n**Explanation:**\\n\\nI\\'ve extracted the key information from the payslip and organized it into a dictionary. Each key represents a specific data point (e.g., \"Employee Name\", \"Gross\", \"Deductions\"), and the corresponding value holds the actual data from the receipt. This makes it easier to access and understand the information contained in the payslip. \\n'"
            ],
            "application/vnd.google.colaboratory.intrinsic+json": {
              "type": "string"
            }
          },
          "metadata": {},
          "execution_count": 51
        }
      ]
    },
    {
      "cell_type": "code",
      "source": [
        "system_prompt = \"\"\"\n",
        "               You are a specialist in comprehending receipts.\n",
        "               Input images in the form of receipts will be provided to you,\n",
        "               and your task is to respond to questions based on the content of the input image.\n",
        "               \"\"\"\n",
        "#system_prompt = \"Convert Invoice data into json format with appropriate json tags as required for the data in image \"\n",
        "image_path = \"/content/Screen-Shot-2016-08-19-at-8__ResizedImageWzgwMCw0Mjld.44.26-AM.png\"\n",
        "user_prompt = \"Convert Invoice data into json format with appropriate json tags as required for the data in image \""
      ],
      "metadata": {
        "id": "SjhRWjDa-vSm"
      },
      "execution_count": 11,
      "outputs": []
    },
    {
      "cell_type": "code",
      "source": [
        "gemini_output(image_path,system_prompt,user_prompt)"
      ],
      "metadata": {
        "colab": {
          "base_uri": "https://localhost:8080/",
          "height": 157
        },
        "id": "IC6mWqDY-0WJ",
        "outputId": "fa032572-8fef-4f2f-f4fa-e60f9fcd9c39"
      },
      "execution_count": 12,
      "outputs": [
        {
          "output_type": "execute_result",
          "data": {
            "text/plain": [
              "'```json\\n{\\n \"invoice_number\": \"2658\",\\n \"invoice_template\": \"Work Done (All)\",\\n \"invoice_title\": \"Work Done (All)\",\\n \"owner\": \"Happy Manager\",\\n \"bill_to\": \"Accelo Support\",\\n \"raised\": \"Aug 19, 2016\",\\n \"due\": \"Sep 2, 2016\",\\n \"customer_description_notes\": \"This will be visible to Clients.\",\\n \"internal_description_notes\": \"This will NOT be visible to Clients but only to Internal Staff Members.\",\\n \"budget\": \"$0.00\",\\n \"invoiced\": \"$0.00\",\\n \"remaining\": \"$0.00\",\\n \"service_subtotal\": \"$1,675.00\",\\n \"material_subtotal\": \"$0.00\",\\n \"expenses_subtotal\": \"$0.00\",\\n \"subtotal\": \"$1,675.00\",\\n \"tax\": \"$0.00\",\\n \"total\": \"$1,675.00\",\\n \"items\": [\\n  {\\n   \"description\": \"#2658 Create Invoice - Projects\",\\n   \"itemize\": \"None\",\\n   \"hours\": \"0.00\",\\n   \"rate\": \"$0.00\",\\n   \"amount\": \"$0.00\",\\n   \"tax\": \"$0.00\",\\n   \"total\": \"$0.00\"\\n  },\\n  {\\n   \"description\": \"Task 2\",\\n   \"itemize\": \"None\",\\n   \"hours\": \"5.00\",\\n   \"rate\": \"$125.00\",\\n   \"amount\": \"$625.00\",\\n   \"tax\": \"$0.00\",\\n   \"total\": \"$625.00\"\\n  },\\n  {\\n   \"description\": \"Task 3\",\\n   \"itemize\": \"None\",\\n   \"hours\": \"6.00\",\\n   \"rate\": \"$175.00\",\\n   \"amount\": \"$1,050.00\",\\n   \"tax\": \"$0.00\",\\n   \"total\": \"$1,050.00\"\\n  }\\n ]\\n}\\n```'"
            ],
            "application/vnd.google.colaboratory.intrinsic+json": {
              "type": "string"
            }
          },
          "metadata": {},
          "execution_count": 12
        }
      ]
    },
    {
      "cell_type": "code",
      "source": [
        "from IPython.display import Markdown\n",
        "Markdown(gemini_output(image_path,system_prompt,user_prompt))\n"
      ],
      "metadata": {
        "collapsed": true,
        "colab": {
          "base_uri": "https://localhost:8080/",
          "height": 885
        },
        "id": "oY5W5QTd_FZp",
        "outputId": "c2d9e264-4b35-4e28-a263-e1469866be5c"
      },
      "execution_count": 13,
      "outputs": [
        {
          "output_type": "execute_result",
          "data": {
            "text/plain": [
              "<IPython.core.display.Markdown object>"
            ],
            "text/markdown": "```json\n{\n \"Invoice Template\": \"Work Done (All)\",\n \"Invoice Title\": \"Work Done (All)\",\n \"Owner\": \"Happy Manager\",\n \"Bill To\": \"Accelo Support\",\n \"Raised\": \"Aug 19, 2016\",\n \"Due\": \"Sep 2, 2016\",\n \"Customer Description/Notes\": \"This will be visible to Clients.\",\n \"Internal Description/Notes\": \"This will NOT be visible to Clients but only to Internal Staff Members.\",\n \"Service Subtotal\": \"$1,675.00\",\n \"Material Subtotal\": \"$0.00\",\n \"Expenses Subtotal\": \"$0.00\",\n \"Subtotal\": \"$1,675.00\",\n \"Tax\": \"$0.00\",\n \"Total\": \"$1,675.00\",\n \"Budget\": \"$0.00\",\n \"Invoiced\": \"$0.00\",\n \"Remaining\": \"$0.00\",\n \"Service Line Items\": [\n  {\n   \"Description\": \"#2658 Create Invoice - Projects\",\n   \"Itemize\": \"None\",\n   \"Hours\": \"0.00\",\n   \"Rate\": \"$0.00\",\n   \"Amount\": \"$0.00\",\n   \"Tax\": \"$0.00\",\n   \"Total\": \"$0.00\"\n  },\n  {\n   \"Description\": \"Task 2\",\n   \"Itemize\": \"None\",\n   \"Hours\": \"5.00\",\n   \"Rate\": \"$125.00\",\n   \"Amount\": \"$625.00\",\n   \"Tax\": \"$0.00\",\n   \"Total\": \"$625.00\"\n  },\n  {\n   \"Description\": \"Task 3\",\n   \"Itemize\": \"None\",\n   \"Hours\": \"6.00\",\n   \"Rate\": \"$175.00\",\n   \"Amount\": \"$1,050.00\",\n   \"Tax\": \"$0.00\",\n   \"Total\": \"$1,050.00\"\n  }\n ],\n \"Sub-total\": \"$1,675.00\",\n \"TOTAL\": \"$1,675.00\"\n}\n```"
          },
          "metadata": {},
          "execution_count": 13
        }
      ]
    }
  ],
  "metadata": {
    "colab": {
      "name": "Welcome to Colaboratory",
      "provenance": [],
      "include_colab_link": true
    },
    "kernelspec": {
      "display_name": "Python 3",
      "name": "python3"
    }
  },
  "nbformat": 4,
  "nbformat_minor": 0
}